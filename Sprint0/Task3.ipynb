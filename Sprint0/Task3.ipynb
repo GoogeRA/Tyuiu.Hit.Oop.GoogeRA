{
 "cells": [
  {
   "cell_type": "markdown",
   "metadata": {},
   "source": [
    "<h1 style=\"color:DodgerBlue\">Индивидальный проект</h1>"
   ]
  },
  {
   "cell_type": "markdown",
   "metadata": {},
   "source": [
    "<h2 style=\"color:DodgerBlue\">Название проекта:</h2>\n",
    "\n",
    "----\n",
    "\n",
    "### Вариант задания №7\n"
   ]
  },
  {
   "cell_type": "markdown",
   "metadata": {},
   "source": [
    "<h2 style=\"color:DodgerBlue\">Описание проекта:</h2>\n",
    "\n",
    "----\n",
    "Вариант задания № 7\n",
    "Описание задачи:\n",
    "Создать базовый класс BankAccount в C#, который будет представлять\n",
    "информацию об учетных записях в банке. На основе этого класса разработать 2-3\n",
    "производных класса, демонстрирующих принципы наследования и полиморфизма.\n",
    "В каждом из классов должны быть реализованы новые атрибуты и методы, а также\n",
    "переопределены некоторые методы базового класса для демонстрации\n",
    "полиморфизма.\n",
    "Требования к базовому классу BankAccount:\n",
    "• Атрибуты: Номер счета (AccountNumber), Баланс (Balance), Тип счета\n",
    "(AccountType).\n",
    "• Методы:\n",
    "o GetInfo(): метод для получения информации о счете в виде строки.\n",
    "o Deposit(decimal amount): метод для внесения денег на счет.\n",
    "o Withdraw(decimal amount): метод для снятия денег со счета.\n",
    "Требования к производным классам:\n",
    "1. Сберегательный счет (SavingsAccount): Должен содержать дополнительные\n",
    "атрибуты, такие как Процентная ставка (InterestRate). Метод Deposit() должен\n",
    "быть переопределен для добавления процентов к сумме вклада при\n",
    "внесении денег на счет.\n",
    "2. Текущий счет (CheckingAccount): Должен содержать дополнительные\n",
    "атрибуты, такие как Лимит овердрафта (OverdraftLimit).\n",
    "Метод Withdraw() должен быть переопределен для проверки и применения\n",
    "лимита овердрафта при снятии денег со счета.\n",
    "3. Инвестиционный счет (InvestmentAccount) (если требуется третий класс):\n",
    "Должен содержать дополнительные атрибуты, такие как Список активов\n",
    "(AssetsList). Метод GetInfo() должен быть переопределен для включения\n",
    "информации о списках активов в описании счета.\n",
    "[ваш текст]\n"
   ]
  },
  {
   "cell_type": "markdown",
   "metadata": {},
   "source": [
    "<h2 style=\"color:DodgerBlue\">Реализация:</h2>\n",
    "\n",
    "----"
   ]
  },
  {
   "cell_type": "code",
   "execution_count": 2,
   "metadata": {
    "dotnet_interactive": {
     "language": "csharp"
    },
    "polyglot_notebook": {
     "kernelName": "csharp"
    }
   },
   "outputs": [
    {
     "name": "stdout",
     "output_type": "stream",
     "text": [
      "Номер аккаунта: 225634353634634, Баланс (в рублях): 18544, Тип счета: Физическое лицо.\n",
      "Выполнена операция: Cчет № 225634353634634 поступление средств.\n",
      "Выполнена операция: Cчет № 225634353634634 вывод средств.\n",
      "\n",
      "Номер аккаунта: 234567436745745, Баланс (в рублях): 25000, Тип счета: Накопительный счет.\n",
      "процентная ставка для вашего счета № 234567436745745, составляет 8,9 %.\n",
      "\n",
      "Номер аккаунта: 2222-4455-3242-5252, Баланс (в рублях): 25000, Тип счета: Крдитная карта.\n",
      "2222-4455-3242-5252, имеет лимит овердрафта: 40000.\n",
      "\n"
     ]
    }
   ],
   "source": [
    "public class BankAccount\n",
    "{\n",
    "    public string AccountNumber;\n",
    "    public int Balance;\n",
    "    public string AccountType; //тип счета\n",
    "    public virtual string GetInfo()\n",
    "    {\n",
    "        return $\"Номер аккаунта: {AccountNumber}, Баланс (в рублях): {Balance}, Тип счета: {AccountType}\";\n",
    "    }\n",
    "    public virtual void Deposit(decimal amount)\n",
    "    {\n",
    "        Console.WriteLine($\"Выполнена операция: Cчет № {AccountNumber} поступление средств.\");\n",
    "    }\n",
    "    public virtual void Withdraw(decimal amount)\n",
    "    {\n",
    "        Console.WriteLine($\"Выполнена операция: Cчет № {AccountNumber} вывод средств.\");\n",
    "    }\n",
    "}\n",
    "public class SavingsAccount: BankAccount\n",
    "{\n",
    "    public double interestRate;//Процентная ставка\n",
    "    public override void Deposit(decimal amount)\n",
    "    {\n",
    "        Console.WriteLine($\"процентная ставка для вашего счета № {AccountNumber}, составляет {interestRate} %.\"); //AccountNumber\n",
    "    }\n",
    "}\n",
    "public class CheckingAccount: BankAccount\n",
    "{\n",
    "    public int OverdraftLimit;\n",
    "    public override void Withdraw(decimal amount)\n",
    "    {\n",
    "        Console.WriteLine($\"{AccountNumber}, имеет лимит овердрафта: {OverdraftLimit}.\");\n",
    "    }\n",
    "}\n",
    "public class InvestmentAccount: BankAccount\n",
    "{\n",
    "    public string AssetsList;\n",
    "    public override string GetInfo()\n",
    "    {\n",
    "        return $\"Номер аккаунта: {AccountNumber}, Баланс (в рублях): {Balance}, Тип счета: {AccountType}, Список активов: {AssetsList}\";\n",
    "    }\n",
    "}\n",
    "\n",
    "BankAccount GoogeRA = new BankAccount();\n",
    "GoogeRA.AccountNumber = \"225634353634634\";\n",
    "GoogeRA.Balance = 18544;\n",
    "GoogeRA.AccountType = \"Физическое лицо.\";\n",
    "Console.WriteLine(GoogeRA.GetInfo());\n",
    "GoogeRA.Deposit(1500);\n",
    "GoogeRA.Withdraw(5000);\n",
    "\n",
    "Console.WriteLine(\"\");\n",
    "\n",
    "SavingsAccount SaveBalanse = new SavingsAccount();\n",
    "SaveBalanse.AccountNumber = \"234567436745745\";\n",
    "SaveBalanse.Balance = 25000;\n",
    "SaveBalanse.AccountType = \"Накопительный счет.\";\n",
    "SaveBalanse.interestRate = 8.9;\n",
    "Console.WriteLine(SaveBalanse.GetInfo());\n",
    "SaveBalanse.Deposit(2005);\n",
    "\n",
    "Console.WriteLine(\"\");\n",
    "\n",
    "CheckingAccount Credit = new CheckingAccount();\n",
    "Credit.AccountNumber = \"2222-4455-3242-5252\";\n",
    "Credit.Balance = 25000;\n",
    "Credit.AccountType = \"Крдитная карта.\";\n",
    "Credit.OverdraftLimit= 40000;\n",
    "Console.WriteLine(Credit.GetInfo());\n",
    "Credit.Withdraw(15000);\n",
    "\n",
    "Console.WriteLine(\"\");\n",
    "\n",
    "InvestmentAccount Assets = new InvestmentAccount();\n",
    "Assets.AccountNumber = \"563475382532523\";\n",
    "Assets.Balance = 5000;\n",
    "Assets.AccountType = \"Инвестиционный счет.\";\n",
    "Assets.AssetsList = \"Недвижемость.\";\n",
    "\n",
    "\n"
   ]
  }
 ],
 "metadata": {
  "kernelspec": {
   "display_name": ".NET (C#)",
   "language": "C#",
   "name": ".net-csharp"
  },
  "polyglot_notebook": {
   "kernelInfo": {
    "defaultKernelName": "csharp",
    "items": [
     {
      "aliases": [],
      "languageName": "csharp",
      "name": "csharp"
     }
    ]
   }
  }
 },
 "nbformat": 4,
 "nbformat_minor": 2
}
